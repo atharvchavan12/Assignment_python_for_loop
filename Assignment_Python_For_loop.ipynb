{
 "cells": [
  {
   "cell_type": "code",
   "execution_count": 1,
   "id": "4fe0488e-f497-4cfc-8b56-c902fa2a7f02",
   "metadata": {},
   "outputs": [
    {
     "name": "stdout",
     "output_type": "stream",
     "text": [
      "1\n",
      "2\n",
      "3\n",
      "4\n",
      "5\n",
      "6\n",
      "7\n",
      "8\n",
      "9\n",
      "10\n"
     ]
    }
   ],
   "source": [
    "#1. Write a Python program to print the numbers from 1 to 10 using a `for` loop.\n",
    "# Using a for loop to print numbers from 1 to 10\n",
    "for num in range(1, 11):\n",
    "    print(num)\n"
   ]
  },
  {
   "cell_type": "code",
   "execution_count": 17,
   "id": "e984cc47-9396-4835-9c08-4deec0f0ab58",
   "metadata": {},
   "outputs": [
    {
     "name": "stdout",
     "output_type": "stream",
     "text": [
      "Sum of numbers in the list: 150\n"
     ]
    }
   ],
   "source": [
    "#2. Create a program that calculates the sum of all numbers in a list using a `for` loop.\n",
    "\n",
    "# Define a list of numbers\n",
    "numbers = [10, 20, 30, 40, 50]\n",
    "\n",
    "# Initialize a variable to store the sum\n",
    "total_sum = 0\n",
    "\n",
    "# Iterate through each number in the list\n",
    "for num in numbers:\n",
    "    total_sum += num  # Add the current number to the total sum\n",
    "\n",
    "# Print the sum of all numbers in the list\n",
    "print(\"Sum of numbers in the list:\", total_sum)\n"
   ]
  },
  {
   "cell_type": "code",
   "execution_count": 19,
   "id": "4e687886-16d2-494d-8aea-476b011aa674",
   "metadata": {},
   "outputs": [
    {
     "name": "stdout",
     "output_type": "stream",
     "text": [
      "!dlroW ,olleH"
     ]
    }
   ],
   "source": [
    "#3. Write a program to print the characters of a string in reverse order using a `for` loop.\n",
    "# Define a string\n",
    "my_string = \"Hello, World!\"\n",
    "\n",
    "# Iterate over the string in reverse using a for loop\n",
    "for char in reversed(my_string):\n",
    "    print(char, end=\"\")\n"
   ]
  },
  {
   "cell_type": "code",
   "execution_count": 22,
   "id": "bf5ecfe2-052b-4fd1-b456-d0f2b249aa36",
   "metadata": {},
   "outputs": [
    {
     "name": "stdin",
     "output_type": "stream",
     "text": [
      "Enter a number:  5\n"
     ]
    },
    {
     "name": "stdout",
     "output_type": "stream",
     "text": [
      "Factorial of 5 is: 120\n"
     ]
    }
   ],
   "source": [
    "#4. Develop a program that finds the factorial of a given number using a `for` loop.\n",
    "# Function to calculate the factorial of a number\n",
    "def factorial(n):\n",
    "    # Initialize the factorial variable\n",
    "    fact = 1\n",
    "    \n",
    "    # Check if the number is negative\n",
    "    if n < 0:\n",
    "        return \"Factorial is not defined for negative numbers\"\n",
    "    \n",
    "    # Calculate the factorial using a for loop\n",
    "    for i in range(1, n + 1):\n",
    "        fact *= i\n",
    "    \n",
    "    return fact\n",
    "\n",
    "# Test the factorial function\n",
    "num = int(input(\"Enter a number: \"))\n",
    "result = factorial(num)\n",
    "print(\"Factorial of\", num, \"is:\", result)\n"
   ]
  },
  {
   "cell_type": "code",
   "execution_count": 24,
   "id": "8d7c7f4e-34fe-409c-be20-580b02dd158d",
   "metadata": {},
   "outputs": [
    {
     "name": "stdin",
     "output_type": "stream",
     "text": [
      "Enter a number:  2\n"
     ]
    },
    {
     "name": "stdout",
     "output_type": "stream",
     "text": [
      "Multiplication table for 2\n",
      "2 x 1 = 2\n",
      "2 x 2 = 4\n",
      "2 x 3 = 6\n",
      "2 x 4 = 8\n",
      "2 x 5 = 10\n",
      "2 x 6 = 12\n",
      "2 x 7 = 14\n",
      "2 x 8 = 16\n",
      "2 x 9 = 18\n",
      "2 x 10 = 20\n"
     ]
    }
   ],
   "source": [
    "#5. Create a program to print the multiplication table of a given number using a `for` loop.\n",
    "# Function to print the multiplication table of a given number\n",
    "def multiplication_table(number):\n",
    "    print(\"Multiplication table for\", number)\n",
    "    for i in range(1, 11):\n",
    "        result = number * i\n",
    "        print(number, \"x\", i, \"=\", result)\n",
    "\n",
    "# Test the multiplication_table function\n",
    "num = int(input(\"Enter a number: \"))\n",
    "multiplication_table(num)\n"
   ]
  },
  {
   "cell_type": "code",
   "execution_count": 25,
   "id": "147f5868-ce50-490a-892e-422ce832d8e6",
   "metadata": {},
   "outputs": [
    {
     "name": "stdout",
     "output_type": "stream",
     "text": [
      "Number of even numbers: 5\n",
      "Number of odd numbers: 5\n"
     ]
    }
   ],
   "source": [
    "#6. Write a program that counts the number of even and odd numbers in a list using a `for` loop.\n",
    "# Function to count the number of even and odd numbers in a list\n",
    "def count_even_odd(numbers):\n",
    "    even_count = 0\n",
    "    odd_count = 0\n",
    "    for num in numbers:\n",
    "        if num % 2 == 0:\n",
    "            even_count += 1\n",
    "        else:\n",
    "            odd_count += 1\n",
    "    return even_count, odd_count\n",
    "\n",
    "# Test the count_even_odd function\n",
    "numbers = [1, 2, 3, 4, 5, 6, 7, 8, 9, 10]\n",
    "even, odd = count_even_odd(numbers)\n",
    "print(\"Number of even numbers:\", even)\n",
    "print(\"Number of odd numbers:\", odd)\n"
   ]
  },
  {
   "cell_type": "code",
   "execution_count": 26,
   "id": "5cc79a73-fffb-4ffa-b0d2-bad601b89950",
   "metadata": {},
   "outputs": [
    {
     "name": "stdout",
     "output_type": "stream",
     "text": [
      "The square of 1 is: 1\n",
      "The square of 2 is: 4\n",
      "The square of 3 is: 9\n",
      "The square of 4 is: 16\n",
      "The square of 5 is: 25\n"
     ]
    }
   ],
   "source": [
    "#7. Develop a program that prints the squares of numbers from 1 to 5 using a `for` loop.\n",
    "# Program to print the squares of numbers from 1 to 5 using a for loop\n",
    "for num in range(1, 6):\n",
    "    square = num ** 2\n",
    "    print(f\"The square of {num} is: {square}\")\n"
   ]
  },
  {
   "cell_type": "code",
   "execution_count": 27,
   "id": "64648563-12dd-4365-845d-048f12e44833",
   "metadata": {},
   "outputs": [
    {
     "name": "stdout",
     "output_type": "stream",
     "text": [
      "Length of the string: 13\n"
     ]
    }
   ],
   "source": [
    "#8. Create a program to find the length of a string without using the `len()` function.\n",
    "# Program to find the length of a string without using the len() function\n",
    "def string_length(s):\n",
    "    count = 0\n",
    "    for char in s:\n",
    "        count += 1\n",
    "    return count\n",
    "\n",
    "# Example usage\n",
    "input_string = \"Hello, world!\"\n",
    "length = string_length(input_string)\n",
    "print(\"Length of the string:\", length)\n"
   ]
  },
  {
   "cell_type": "code",
   "execution_count": 28,
   "id": "b06be79c-2c30-4d47-9181-76a434b61c5c",
   "metadata": {},
   "outputs": [
    {
     "name": "stdout",
     "output_type": "stream",
     "text": [
      "Average: 30.0\n"
     ]
    }
   ],
   "source": [
    "#9. Write a program that calculates the average of a list of numbers using a `for` loop.\n",
    "# Program to calculate the average of a list of numbers using a for loop\n",
    "def calculate_average(numbers):\n",
    "    total = 0\n",
    "    count = 0\n",
    "    for num in numbers:\n",
    "        total += num\n",
    "        count += 1\n",
    "    if count == 0:\n",
    "        return 0  # Avoid division by zero\n",
    "    else:\n",
    "        return total / count\n",
    "\n",
    "# Example usage\n",
    "numbers = [10, 20, 30, 40, 50]\n",
    "average = calculate_average(numbers)\n",
    "print(\"Average:\", average)\n"
   ]
  },
  {
   "cell_type": "code",
   "execution_count": 29,
   "id": "c42927bd-df42-4bc7-b761-09f6a5891571",
   "metadata": {},
   "outputs": [
    {
     "name": "stdout",
     "output_type": "stream",
     "text": [
      "First 10 Fibonacci numbers:\n",
      "0 1 1 2 3 5 8 13 21 34 "
     ]
    }
   ],
   "source": [
    "#10. Develop a program that prints the first `n` Fibonacci numbers using a `for` loop.\n",
    "def fibonacci(n):\n",
    "    fib_list = [0, 1]  # Initialize with the first two Fibonacci numbers\n",
    "\n",
    "    # Calculate the Fibonacci numbers starting from the third number\n",
    "    for i in range(2, n):\n",
    "        next_fib = fib_list[-1] + fib_list[-2]  # Sum of the last two Fibonacci numbers\n",
    "        fib_list.append(next_fib)\n",
    "\n",
    "    return fib_list\n",
    "\n",
    "# Function to print the Fibonacci numbers\n",
    "def print_fibonacci(n):\n",
    "    fib_numbers = fibonacci(n)\n",
    "    print(\"First\", n, \"Fibonacci numbers:\")\n",
    "    for fib_num in fib_numbers:\n",
    "        print(fib_num, end=\" \")\n",
    "\n",
    "# Example usage:\n",
    "n = 10  # Number of Fibonacci numbers to print\n",
    "print_fibonacci(n)\n"
   ]
  },
  {
   "cell_type": "code",
   "execution_count": 30,
   "id": "58672bb1-a200-4379-ba0c-fa570d17c96e",
   "metadata": {},
   "outputs": [
    {
     "name": "stdout",
     "output_type": "stream",
     "text": [
      "Does my_list contain duplicates? False\n",
      "Does my_list_with_duplicates contain duplicates? True\n"
     ]
    }
   ],
   "source": [
    "#11. Write a program to check if a given list contains any duplicates using a `for` loop.\n",
    "def has_duplicates(lst):\n",
    "    seen = set()  # Create an empty set to store seen elements\n",
    "    for item in lst:\n",
    "        if item in seen:  # If the element is already in the set, it's a duplicate\n",
    "            return True\n",
    "        seen.add(item)  # Otherwise, add the element to the set\n",
    "    return False\n",
    "\n",
    "# Example usage:\n",
    "my_list = [1, 2, 3, 4, 5]\n",
    "print(\"Does my_list contain duplicates?\", has_duplicates(my_list))  # Output: False\n",
    "\n",
    "my_list_with_duplicates = [1, 2, 3, 4, 5, 2]\n",
    "print(\"Does my_list_with_duplicates contain duplicates?\", has_duplicates(my_list_with_duplicates))\n"
   ]
  },
  {
   "cell_type": "code",
   "execution_count": 31,
   "id": "04e2846d-2805-47fb-98b2-271601c5c8f6",
   "metadata": {},
   "outputs": [
    {
     "name": "stdout",
     "output_type": "stream",
     "text": [
      "Prime numbers between 10 and 50:\n",
      "11 13 17 19 23 29 31 37 41 43 47 "
     ]
    }
   ],
   "source": [
    "#12. Create a program that prints the prime numbers in a given range using a `for` loop.\n",
    "def is_prime(n):\n",
    "    if n <= 1:\n",
    "        return False\n",
    "    for i in range(2, int(n ** 0.5) + 1):\n",
    "        if n % i == 0:\n",
    "            return False\n",
    "    return True\n",
    "\n",
    "def print_primes_in_range(start, end):\n",
    "    print(f\"Prime numbers between {start} and {end}:\")\n",
    "    for num in range(start, end + 1):\n",
    "        if is_prime(num):\n",
    "            print(num, end=\" \")\n",
    "\n",
    "# Example usage:\n",
    "start_range = 10\n",
    "end_range = 50\n",
    "print_primes_in_range(start_range, end_range)\n"
   ]
  },
  {
   "cell_type": "code",
   "execution_count": 34,
   "id": "cb25e822-8ef7-478c-b1a2-c3669372c655",
   "metadata": {},
   "outputs": [
    {
     "name": "stdout",
     "output_type": "stream",
     "text": [
      "Number of vowels in the string: 3\n"
     ]
    }
   ],
   "source": [
    "#13. Develop a program that counts the number odef count_vowels(string):\n",
    "def count_vowels(string):\n",
    "    vowels = \"aeiouAEIOU\"\n",
    "    vowel_count = 0\n",
    "    for char in string:\n",
    "        if char in vowels:\n",
    "            vowel_count += 1\n",
    "    return vowel_count\n",
    "\n",
    "# Example usage:\n",
    "input_string = \"Hello, World!\"\n",
    "print(\"Number of vowels in the string:\", count_vowels(input_string))\n"
   ]
  },
  {
   "cell_type": "code",
   "execution_count": 35,
   "id": "94d377d0-5f75-4d81-8b9a-d88c45163857",
   "metadata": {},
   "outputs": [
    {
     "name": "stdout",
     "output_type": "stream",
     "text": [
      "Maximum element in the 2D list: 9\n"
     ]
    }
   ],
   "source": [
    "#14. Write a program to find the maximum element in a 2D list using a nested `for` loop.\n",
    "def find_max_2d(input_list):\n",
    "    max_element = float(\"-inf\")\n",
    "    for row in input_list:\n",
    "        for element in row:\n",
    "            if element > max_element:\n",
    "                max_element = element\n",
    "    return max_element\n",
    "\n",
    "# Example usage:\n",
    "my_2d_list = [\n",
    "    [1, 2, 3],\n",
    "    [4, 5, 6],\n",
    "    [7, 8, 9]\n",
    "]\n",
    "\n",
    "print(\"Maximum element in the 2D list:\", find_max_2d(my_2d_list))\n"
   ]
  },
  {
   "cell_type": "code",
   "execution_count": 36,
   "id": "f4d64204-c0ab-47ff-affa-0dc56a5f52eb",
   "metadata": {},
   "outputs": [
    {
     "name": "stdout",
     "output_type": "stream",
     "text": [
      "Original list: [1, 2, 3, 4, 3, 5, 3, 6]\n",
      "After removing 3 : [1, 2, 4, 5, 6]\n"
     ]
    }
   ],
   "source": [
    "#15. Create a program that removes all occurrences of a specific element from a list using a `for` loop.\n",
    "def remove_element(input_list, element_to_remove):\n",
    "    output_list = []\n",
    "    for element in input_list:\n",
    "        if element != element_to_remove:\n",
    "            output_list.append(element)\n",
    "    return output_list\n",
    "\n",
    "# Example usage:\n",
    "my_list = [1, 2, 3, 4, 3, 5, 3, 6]\n",
    "element_to_remove = 3\n",
    "new_list = remove_element(my_list, element_to_remove)\n",
    "print(\"Original list:\", my_list)\n",
    "print(\"After removing\", element_to_remove, \":\", new_list)\n"
   ]
  },
  {
   "cell_type": "code",
   "execution_count": 37,
   "id": "9e21eff9-e40f-436d-90bc-c8e1048d20f4",
   "metadata": {},
   "outputs": [
    {
     "name": "stdout",
     "output_type": "stream",
     "text": [
      "Multiplication table for 1\n",
      "1 x 1 = 1\n",
      "1 x 2 = 2\n",
      "1 x 3 = 3\n",
      "1 x 4 = 4\n",
      "1 x 5 = 5\n",
      "1 x 6 = 6\n",
      "1 x 7 = 7\n",
      "1 x 8 = 8\n",
      "1 x 9 = 9\n",
      "1 x 10 = 10\n",
      "\n",
      "Multiplication table for 2\n",
      "2 x 1 = 2\n",
      "2 x 2 = 4\n",
      "2 x 3 = 6\n",
      "2 x 4 = 8\n",
      "2 x 5 = 10\n",
      "2 x 6 = 12\n",
      "2 x 7 = 14\n",
      "2 x 8 = 16\n",
      "2 x 9 = 18\n",
      "2 x 10 = 20\n",
      "\n",
      "Multiplication table for 3\n",
      "3 x 1 = 3\n",
      "3 x 2 = 6\n",
      "3 x 3 = 9\n",
      "3 x 4 = 12\n",
      "3 x 5 = 15\n",
      "3 x 6 = 18\n",
      "3 x 7 = 21\n",
      "3 x 8 = 24\n",
      "3 x 9 = 27\n",
      "3 x 10 = 30\n",
      "\n",
      "Multiplication table for 4\n",
      "4 x 1 = 4\n",
      "4 x 2 = 8\n",
      "4 x 3 = 12\n",
      "4 x 4 = 16\n",
      "4 x 5 = 20\n",
      "4 x 6 = 24\n",
      "4 x 7 = 28\n",
      "4 x 8 = 32\n",
      "4 x 9 = 36\n",
      "4 x 10 = 40\n",
      "\n",
      "Multiplication table for 5\n",
      "5 x 1 = 5\n",
      "5 x 2 = 10\n",
      "5 x 3 = 15\n",
      "5 x 4 = 20\n",
      "5 x 5 = 25\n",
      "5 x 6 = 30\n",
      "5 x 7 = 35\n",
      "5 x 8 = 40\n",
      "5 x 9 = 45\n",
      "5 x 10 = 50\n",
      "\n"
     ]
    }
   ],
   "source": [
    "#16. Develop a program that generates a multiplication table for numbers from 1 to 5 using a nested `for` loop.\n",
    "def multiplication_table():\n",
    "    for i in range(1, 6):  # Iterate from 1 to 5\n",
    "        print(\"Multiplication table for\", i)\n",
    "        for j in range(1, 11):  # Iterate from 1 to 10 for each number\n",
    "            print(i, \"x\", j, \"=\", i * j)\n",
    "        print()  # Print an empty line between tables\n",
    "\n",
    "# Call the function to generate the multiplication table\n",
    "multiplication_table()\n"
   ]
  },
  {
   "cell_type": "code",
   "execution_count": 38,
   "id": "709b7649-f403-4054-b923-6f3ba06ef123",
   "metadata": {},
   "outputs": [
    {
     "name": "stdout",
     "output_type": "stream",
     "text": [
      "Fahrenheit temperatures: [32, 68, 86, 104]\n",
      "Celsius temperatures: [0.0, 20.0, 30.0, 40.0]\n"
     ]
    }
   ],
   "source": [
    "#17. Write a program that converts a list of Fahrenheit temperatures to Celsius using a `for` loop.\n",
    "\n",
    "def fahrenheit_to_celsius(fahrenheit_temperatures):\n",
    "    celsius_temperatures = []  # Create an empty list to store the converted temperatures\n",
    "    for fahrenheit in fahrenheit_temperatures:\n",
    "        celsius = (fahrenheit - 32) * 5 / 9  # Convert Fahrenheit to Celsius\n",
    "        celsius_temperatures.append(celsius)  # Add the converted temperature to the list\n",
    "    return celsius_temperatures\n",
    "\n",
    "# Example usage:\n",
    "fahrenheit_list = [32, 68, 86, 104]  # List of Fahrenheit temperatures\n",
    "celsius_list = fahrenheit_to_celsius(fahrenheit_list)  # Convert Fahrenheit to Celsius\n",
    "print(\"Fahrenheit temperatures:\", fahrenheit_list)\n",
    "print(\"Celsius temperatures:\", celsius_list)\n"
   ]
  },
  {
   "cell_type": "code",
   "execution_count": 39,
   "id": "b50349ab-4b9a-407d-b02e-773f90cd2e41",
   "metadata": {},
   "outputs": [
    {
     "name": "stdout",
     "output_type": "stream",
     "text": [
      "List 1: [1, 2, 3, 4, 5]\n",
      "List 2: [4, 5, 6, 7, 8]\n",
      "Common elements: [4, 5]\n"
     ]
    }
   ],
   "source": [
    "#18. Create a program to print the common elements from two lists using a `for` loop.\n",
    "def find_common_elements(list1, list2):\n",
    "    common_elements = []  # Create an empty list to store the common elements\n",
    "    for item in list1:\n",
    "        if item in list2:  # Check if the item is present in the second list\n",
    "            common_elements.append(item)  # Add the common element to the list\n",
    "    return common_elements\n",
    "\n",
    "# Example usage:\n",
    "list1 = [1, 2, 3, 4, 5]\n",
    "list2 = [4, 5, 6, 7, 8]\n",
    "common_elements = find_common_elements(list1, list2)\n",
    "print(\"List 1:\", list1)\n",
    "print(\"List 2:\", list2)\n",
    "print(\"Common elements:\", common_elements)\n"
   ]
  },
  {
   "cell_type": "code",
   "execution_count": 63,
   "id": "27581d75-d422-493e-9952-beb1b0156b2f",
   "metadata": {},
   "outputs": [
    {
     "name": "stdout",
     "output_type": "stream",
     "text": [
      "Pattern of right-angled triangle:\n",
      "* \n",
      "* * \n",
      "* * * \n",
      "* * * * \n",
      "* * * * * \n"
     ]
    }
   ],
   "source": [
    "#19. Develop a program that prints the pattern of right-angled triangles using a `for` loop. Use ‘*’ to draw thepattern\n",
    "\n",
    "def print_right_triangle_pattern(rows):\n",
    "    for i in range(1, rows + 1):\n",
    "        for j in range(1, i + 1):\n",
    "            print(\"*\", end=\" \")  # Print '*' without a newline\n",
    "        print()  # Move to the next line after printing each row\n",
    "\n",
    "# Example usage:\n",
    "rows = 5\n",
    "print(\"Pattern of right-angled triangle:\")\n",
    "print_right_triangle_pattern(rows)\n"
   ]
  },
  {
   "cell_type": "code",
   "execution_count": 64,
   "id": "f56c4c8f-8480-4c1c-ba18-5c5604fbf7d3",
   "metadata": {},
   "outputs": [
    {
     "name": "stdout",
     "output_type": "stream",
     "text": [
      "The GCD of 36 and 48 is: 12\n"
     ]
    }
   ],
   "source": [
    "#20. Write a program to find the greatest common divisor (GCD) of two numbers using a `for` loop.\n",
    "def find_gcd(x, y):\n",
    "    # Initialize gcd to 1, the minimum possible value\n",
    "    gcd = 1\n",
    "    \n",
    "    # Iterate from 1 up to the minimum of x and y\n",
    "    for i in range(1, min(x, y) + 1):\n",
    "        # Check if both x and y are divisible by the current number (i)\n",
    "        if x % i == 0 and y % i == 0:\n",
    "            gcd = i  # Update gcd if i divides both x and y\n",
    "            \n",
    "    return gcd\n",
    "\n",
    "# Example usage:\n",
    "num1 = 36\n",
    "num2 = 48\n",
    "print(\"The GCD of\", num1, \"and\", num2, \"is:\", find_gcd(num1, num2))\n"
   ]
  },
  {
   "cell_type": "code",
   "execution_count": 65,
   "id": "82af23b9-fafe-4920-ac52-14173deff80f",
   "metadata": {},
   "outputs": [
    {
     "name": "stdout",
     "output_type": "stream",
     "text": [
      "Sum of digits for each number: [6, 15, 24]\n"
     ]
    }
   ],
   "source": [
    "#21. Create a program that calculates the sum of the digits of numbers in a list using a list comprehension.\n",
    "# Function to calculate the sum of digits of a number\n",
    "def sum_of_digits(number):\n",
    "    return sum(int(digit) for digit in str(number) if digit.isdigit())\n",
    "\n",
    "# List of numbers\n",
    "numbers = [123, 456, 789]\n",
    "\n",
    "# Calculate the sum of digits for each number using list comprehension\n",
    "sum_of_digits_list = [sum_of_digits(num) for num in numbers]\n",
    "\n",
    "# Print the result\n",
    "print(\"Sum of digits for each number:\", sum_of_digits_list)\n"
   ]
  },
  {
   "cell_type": "code",
   "execution_count": 66,
   "id": "5d861394-dbfb-4103-b84d-194ffe2c1ddc",
   "metadata": {},
   "outputs": [
    {
     "name": "stdin",
     "output_type": "stream",
     "text": [
      "Enter a number:  25\n"
     ]
    },
    {
     "name": "stdout",
     "output_type": "stream",
     "text": [
      "Prime factors of 25 are: [5, 5]\n"
     ]
    }
   ],
   "source": [
    "#22. Write a program to find the prime factors of a given number using a `for` loop and list comprehension.\n",
    "def prime_factors(n):\n",
    "    factors = []\n",
    "    divisor = 2\n",
    "\n",
    "    while n > 1:\n",
    "        # Check if the current divisor divides the number evenly\n",
    "        while n % divisor == 0:\n",
    "            factors.append(divisor)\n",
    "            n //= divisor\n",
    "        divisor += 1\n",
    "\n",
    "    return factors\n",
    "\n",
    "# Input a number from the user\n",
    "number = int(input(\"Enter a number: \"))\n",
    "\n",
    "# Find prime factors using list comprehension\n",
    "factors = prime_factors(number)\n",
    "\n",
    "# Print the prime factors\n",
    "print(\"Prime factors of\", number, \"are:\", factors)\n"
   ]
  },
  {
   "cell_type": "code",
   "execution_count": 67,
   "id": "5a07d76c-8fbd-4faf-9950-2d7e324a005a",
   "metadata": {},
   "outputs": [
    {
     "name": "stdout",
     "output_type": "stream",
     "text": [
      "Unique elements: [1, 2, 3, 4, 5, 6]\n"
     ]
    }
   ],
   "source": [
    "#23. Develop a program that extracts unique elements from a list and stores them in a new list using a list comprehension.\n",
    "# Original list with duplicate elements\n",
    "original_list = [1, 2, 3, 3, 4, 4, 5, 6, 6]\n",
    "\n",
    "# List comprehension to extract unique elements\n",
    "unique_elements = list(set(original_list))\n",
    "\n",
    "# Print the unique elements\n",
    "print(\"Unique elements:\", unique_elements)\n"
   ]
  },
  {
   "cell_type": "code",
   "execution_count": 68,
   "id": "bedec560-74f4-40b5-88f9-1647bafeedfd",
   "metadata": {},
   "outputs": [
    {
     "name": "stdout",
     "output_type": "stream",
     "text": [
      "Palindromic numbers up to 1000 : [0, 1, 2, 3, 4, 5, 6, 7, 8, 9, 11, 22, 33, 44, 55, 66, 77, 88, 99, 101, 111, 121, 131, 141, 151, 161, 171, 181, 191, 202, 212, 222, 232, 242, 252, 262, 272, 282, 292, 303, 313, 323, 333, 343, 353, 363, 373, 383, 393, 404, 414, 424, 434, 444, 454, 464, 474, 484, 494, 505, 515, 525, 535, 545, 555, 565, 575, 585, 595, 606, 616, 626, 636, 646, 656, 666, 676, 686, 696, 707, 717, 727, 737, 747, 757, 767, 777, 787, 797, 808, 818, 828, 838, 848, 858, 868, 878, 888, 898, 909, 919, 929, 939, 949, 959, 969, 979, 989, 999]\n"
     ]
    }
   ],
   "source": [
    "#24. Create a program that generates a list of all palindromic numbers up to a specified limit using a listcomprehension.\n",
    "\n",
    "# Function to check if a number is palindrome\n",
    "def is_palindrome(num):\n",
    "    return str(num) == str(num)[::-1]\n",
    "\n",
    "# Generate a list of all palindromic numbers up to a specified limit\n",
    "def generate_palindromic_numbers(limit):\n",
    "    return [num for num in range(limit) if is_palindrome(num)]\n",
    "\n",
    "# Example usage\n",
    "limit = 1000\n",
    "palindromic_numbers = generate_palindromic_numbers(limit)\n",
    "print(\"Palindromic numbers up to\", limit, \":\", palindromic_numbers)\n"
   ]
  },
  {
   "cell_type": "code",
   "execution_count": 69,
   "id": "9dc5fb2e-6977-4be2-b913-6cc4738c74b1",
   "metadata": {},
   "outputs": [
    {
     "name": "stdout",
     "output_type": "stream",
     "text": [
      "Flattened list: [1, 2, 3, 4, 5, 6, 7, 8]\n"
     ]
    }
   ],
   "source": [
    "#25. Write a program to flatten a nested list using list comprehension.\n",
    "# Nested list\n",
    "nested_list = [[1, 2, 3], [4, 5], [6, 7, 8]]\n",
    "\n",
    "# Flatten the nested list using list comprehension\n",
    "flattened_list = [item for sublist in nested_list for item in sublist]\n",
    "\n",
    "# Print the flattened list\n",
    "print(\"Flattened list:\", flattened_list)\n"
   ]
  },
  {
   "cell_type": "code",
   "execution_count": 70,
   "id": "22fd250e-ec12-49ae-b61e-659d0b56513c",
   "metadata": {},
   "outputs": [
    {
     "name": "stdout",
     "output_type": "stream",
     "text": [
      "Sum of even numbers: 30\n",
      "Sum of odd numbers: 25\n"
     ]
    }
   ],
   "source": [
    "#26. Develop a program that computes the sum of even and odd numbers in a list separately using list comprehension.\n",
    "# Original list\n",
    "numbers = [1, 2, 3, 4, 5, 6, 7, 8, 9, 10]\n",
    "\n",
    "# List comprehension to separate even and odd numbers\n",
    "even_numbers = [num for num in numbers if num % 2 == 0]\n",
    "odd_numbers = [num for num in numbers if num % 2 != 0]\n",
    "\n",
    "# Compute the sum of even and odd numbers\n",
    "sum_even = sum(even_numbers)\n",
    "sum_odd = sum(odd_numbers)\n",
    "\n",
    "# Print the sums\n",
    "print(\"Sum of even numbers:\", sum_even)\n",
    "print(\"Sum of odd numbers:\", sum_odd)\n"
   ]
  },
  {
   "cell_type": "code",
   "execution_count": 71,
   "id": "a24d27c9-0bc7-42b7-a245-f99e8ffa9009",
   "metadata": {},
   "outputs": [
    {
     "name": "stdout",
     "output_type": "stream",
     "text": [
      "Squares of odd numbers between 1 and 10: [1, 9, 25, 49, 81]\n"
     ]
    }
   ],
   "source": [
    "#27. Create a program that generates a list of squares of odd numbers between 1 and 10 using list comprehension.\n",
    "# List comprehension to generate squares of odd numbers between 1 and 10\n",
    "squares_of_odd = [num ** 2 for num in range(1, 11) if num % 2 != 0]\n",
    "\n",
    "# Print the list of squares of odd numbers\n",
    "print(\"Squares of odd numbers between 1 and 10:\", squares_of_odd)\n"
   ]
  },
  {
   "cell_type": "code",
   "execution_count": 72,
   "id": "a873871e-49af-4bd6-9942-5f9bda3213d8",
   "metadata": {},
   "outputs": [
    {
     "name": "stdout",
     "output_type": "stream",
     "text": [
      "Combined dictionary: {'a': 1, 'b': 2, 'c': 3}\n"
     ]
    }
   ],
   "source": [
    "#28. Write a program that combines two lists into a dictionary using list comprehension.\n",
    "# Given two lists\n",
    "keys = ['a', 'b', 'c']\n",
    "values = [1, 2, 3]\n",
    "\n",
    "# Dictionary comprehension to combine the lists into a dictionary\n",
    "combined_dict = {k: v for k, v in zip(keys, values)}\n",
    "\n",
    "# Print the combined dictionary\n",
    "print(\"Combined dictionary:\", combined_dict)\n"
   ]
  },
  {
   "cell_type": "code",
   "execution_count": 73,
   "id": "7b584d88-ee60-4a2b-8532-14f94220140d",
   "metadata": {},
   "outputs": [
    {
     "name": "stdout",
     "output_type": "stream",
     "text": [
      "List of vowels: ['e', 'o', 'o']\n"
     ]
    }
   ],
   "source": [
    "#29. Develop a program that extracts the vowels from a string and stores them in a list using list comprehension.\n",
    "# Given string\n",
    "input_string = \"Hello World\"\n",
    "\n",
    "# List comprehension to extract vowels and store them in a list\n",
    "vowels_list = [char for char in input_string if char.lower() in 'aeiou']\n",
    "\n",
    "# Print the list of vowels\n",
    "print(\"List of vowels:\", vowels_list)\n"
   ]
  },
  {
   "cell_type": "code",
   "execution_count": 74,
   "id": "a573da94-a365-45ac-bd2b-51d3e9715fb7",
   "metadata": {},
   "outputs": [
    {
     "name": "stdout",
     "output_type": "stream",
     "text": [
      "List with non-numeric characters removed: ['123', '456', '789', '10']\n"
     ]
    }
   ],
   "source": [
    "#30. Create a program that removes all non-numeric characters from a list of strings using list comprehension.\n",
    "# Given list of strings\n",
    "list_of_strings = ['abc123', '456def', '789', '10xyz']\n",
    "\n",
    "# List comprehension to remove non-numeric characters from each string\n",
    "numeric_strings = [''.join(char for char in string if char.isdigit()) for string in list_of_strings]\n",
    "\n",
    "# Print the list of strings with non-numeric characters removed\n",
    "print(\"List with non-numeric characters removed:\", numeric_strings)\n"
   ]
  },
  {
   "cell_type": "code",
   "execution_count": 75,
   "id": "25675915-6fac-44e1-be52-c9a55db26079",
   "metadata": {},
   "outputs": [
    {
     "name": "stdout",
     "output_type": "stream",
     "text": [
      "Prime numbers up to 50 : [2, 3, 5, 7, 11, 13, 17, 19, 23, 29, 31, 37, 41, 43, 47]\n"
     ]
    }
   ],
   "source": [
    "#31. Write a program to generate a list of prime numbers using the Sieve of Eratosthenes algorithm and list comprehension.\n",
    "def sieve_of_eratosthenes(n):\n",
    "    primes = [True] * (n + 1)\n",
    "    primes[0], primes[1] = False, False  # 0 and 1 are not prime\n",
    "    \n",
    "    for i in range(2, int(n**0.5) + 1):\n",
    "        if primes[i]:\n",
    "            primes[i*i:n+1:i] = [False] * len(primes[i*i:n+1:i])\n",
    "    \n",
    "    return [i for i in range(2, n + 1) if primes[i]]\n",
    "\n",
    "# Generate a list of prime numbers up to 50\n",
    "n = 50\n",
    "prime_numbers = sieve_of_eratosthenes(n)\n",
    "print(\"Prime numbers up to\", n, \":\", prime_numbers)\n"
   ]
  },
  {
   "cell_type": "code",
   "execution_count": 76,
   "id": "4c9256d0-b5a3-4747-b3ad-28d7cdb7b006",
   "metadata": {},
   "outputs": [
    {
     "name": "stdout",
     "output_type": "stream",
     "text": [
      "Pythagorean triplets up to 20 : [(3, 4, 5), (6, 8, 10), (5, 12, 13), (9, 12, 15), (8, 15, 17), (12, 16, 20)]\n"
     ]
    }
   ],
   "source": [
    "#32. Create a program that generates a list of all Pythagorean triplets up to a specified limit using list comprehension.\n",
    "def generate_pythagorean_triplets(limit):\n",
    "    triplets = [(a, b, c) for c in range(1, limit + 1) \n",
    "                for b in range(1, c) \n",
    "                for a in range(1, b) \n",
    "                if a**2 + b**2 == c**2]\n",
    "    return triplets\n",
    "\n",
    "# Generate Pythagorean triplets up to a specified limit\n",
    "limit = 20\n",
    "pythagorean_triplets = generate_pythagorean_triplets(limit)\n",
    "print(\"Pythagorean triplets up to\", limit, \":\", pythagorean_triplets)\n"
   ]
  },
  {
   "cell_type": "code",
   "execution_count": 77,
   "id": "ccca7edd-875d-40b1-b224-99c5608b7c14",
   "metadata": {},
   "outputs": [
    {
     "name": "stdout",
     "output_type": "stream",
     "text": [
      "All possible combinations of the two lists: [(1, 'a'), (1, 'b'), (1, 'c'), (2, 'a'), (2, 'b'), (2, 'c'), (3, 'a'), (3, 'b'), (3, 'c')]\n"
     ]
    }
   ],
   "source": [
    "#33. Develop a program that generates a list of all possible combinations of two lists using list comprehension.\n",
    "def generate_combinations(list1, list2):\n",
    "    combinations = [(x, y) for x in list1 for y in list2]\n",
    "    return combinations\n",
    "\n",
    "# Example lists\n",
    "list1 = [1, 2, 3]\n",
    "list2 = ['a', 'b', 'c']\n",
    "\n",
    "# Generate all possible combinations of the two lists\n",
    "combinations = generate_combinations(list1, list2)\n",
    "print(\"All possible combinations of the two lists:\", combinations)\n"
   ]
  },
  {
   "cell_type": "code",
   "execution_count": 78,
   "id": "ba0eb69c-d582-484c-8596-0465c650f77d",
   "metadata": {},
   "outputs": [
    {
     "name": "stdout",
     "output_type": "stream",
     "text": [
      "Mean: 4.083333333333333\n",
      "Median: 3.5\n",
      "Mode: [2]\n"
     ]
    }
   ],
   "source": [
    "#34. Write a program that calculates the mean, median, and mode of a list of numbers using list comprehension.\n",
    "from collections import Counter\n",
    "\n",
    "def mean(numbers):\n",
    "    return sum(numbers) / len(numbers)\n",
    "\n",
    "def median(numbers):\n",
    "    sorted_numbers = sorted(numbers)\n",
    "    n = len(sorted_numbers)\n",
    "    if n % 2 == 0:\n",
    "        return (sorted_numbers[n // 2 - 1] + sorted_numbers[n // 2]) / 2\n",
    "    else:\n",
    "        return sorted_numbers[n // 2]\n",
    "\n",
    "def mode(numbers):\n",
    "    counter = Counter(numbers)\n",
    "    max_frequency = max(counter.values())\n",
    "    return [number for number, frequency in counter.items() if frequency == max_frequency]\n",
    "\n",
    "# Example list of numbers\n",
    "numbers = [1, 3, 4, 2, 2, 6, 7, 8, 6, 5, 2, 3]\n",
    "\n",
    "# Calculate mean, median, and mode using list comprehension\n",
    "mean_value = mean(numbers)\n",
    "median_value = median(numbers)\n",
    "mode_value = mode(numbers)\n",
    "\n",
    "# Print the results\n",
    "print(\"Mean:\", mean_value)\n",
    "print(\"Median:\", median_value)\n",
    "print(\"Mode:\", mode_value)\n"
   ]
  },
  {
   "cell_type": "code",
   "execution_count": 79,
   "id": "46ca2497-a969-4335-b7ea-ccdbc88d5e73",
   "metadata": {},
   "outputs": [
    {
     "name": "stdout",
     "output_type": "stream",
     "text": [
      "       1       \n",
      "      1 1      \n",
      "     1 2 1     \n",
      "    1 3 3 1    \n",
      "   1 4 6 4 1   \n"
     ]
    }
   ],
   "source": [
    "#35. Create a program that generates Pascal's triangle up to a specified number of rows using list comprehension.\n",
    "def generate_pascals_triangle(rows):\n",
    "    triangle = [[1]]\n",
    "    for _ in range(rows - 1):\n",
    "        row = [1] + [triangle[-1][i] + triangle[-1][i + 1] for i in range(len(triangle[-1]) - 1)] + [1]\n",
    "        triangle.append(row)\n",
    "    return triangle\n",
    "\n",
    "def print_pascals_triangle(triangle):\n",
    "    for row in triangle:\n",
    "        print(\" \".join(str(number) for number in row).center(len(triangle[-1]) * 3))\n",
    "\n",
    "# Example: Generate Pascal's triangle with 5 rows\n",
    "rows = 5\n",
    "pascals_triangle = generate_pascals_triangle(rows)\n",
    "\n",
    "# Print Pascal's triangle\n",
    "print_pascals_triangle(pascals_triangle)\n"
   ]
  },
  {
   "cell_type": "code",
   "execution_count": 80,
   "id": "d4f03423-ba8e-4762-bd52-bc142a447ec6",
   "metadata": {},
   "outputs": [
    {
     "name": "stdout",
     "output_type": "stream",
     "text": [
      "Factorial of 1: 1, Sum of digits: 1\n",
      "Factorial of 2: 2, Sum of digits: 2\n",
      "Factorial of 3: 6, Sum of digits: 6\n",
      "Factorial of 4: 24, Sum of digits: 6\n",
      "Factorial of 5: 120, Sum of digits: 3\n"
     ]
    }
   ],
   "source": [
    "#36. Develop a program that calculates the sum of the digits of a factorial of numbers from 1 to 5 using list comprehension.\n",
    "\n",
    "# Function to calculate the factorial of a number\n",
    "def factorial(n):\n",
    "    if n == 0:\n",
    "        return 1\n",
    "    else:\n",
    "        return n * factorial(n - 1)\n",
    "\n",
    "# Calculate the factorial of numbers from 1 to 5 using list comprehension\n",
    "factorials = [factorial(i) for i in range(1, 6)]\n",
    "\n",
    "# Function to calculate the sum of digits of a number\n",
    "def sum_of_digits(number):\n",
    "    return sum(int(digit) for digit in str(number))\n",
    "\n",
    "# Calculate the sum of digits of each factorial using list comprehension\n",
    "sums_of_digits = [sum_of_digits(f) for f in factorials]\n",
    "\n",
    "# Print the results\n",
    "for i, factorial_num in enumerate(factorials, start=1):\n",
    "    print(f\"Factorial of {i}: {factorial_num}, Sum of digits: {sums_of_digits[i - 1]}\")\n"
   ]
  },
  {
   "cell_type": "code",
   "execution_count": 81,
   "id": "ad3aec66-39c8-4559-83e6-02cc462f020e",
   "metadata": {},
   "outputs": [
    {
     "name": "stdout",
     "output_type": "stream",
     "text": [
      "Longest word(s): ['quick', 'brown', 'jumps']\n",
      "Length: 5\n"
     ]
    }
   ],
   "source": [
    "#37. Write a program that finds the longest word in a sentence using list comprehension.\n",
    "# Input sentence\n",
    "sentence = \"The quick brown fox jumps over the lazy dog\"\n",
    "\n",
    "# Split the sentence into words\n",
    "words = sentence.split()\n",
    "\n",
    "# List comprehension to create a list of word lengths\n",
    "word_lengths = [len(word) for word in words]\n",
    "\n",
    "# Find the maximum length in the list of word lengths\n",
    "max_length = max(word_lengths)\n",
    "\n",
    "# Find the word(s) with the maximum length\n",
    "longest_words = [word for word in words if len(word) == max_length]\n",
    "\n",
    "# Print the longest word(s)\n",
    "print(\"Longest word(s):\", longest_words)\n",
    "print(\"Length:\", max_length)\n"
   ]
  },
  {
   "cell_type": "code",
   "execution_count": 84,
   "id": "772a7f1a-7963-4004-a747-2741801c40ff",
   "metadata": {},
   "outputs": [
    {
     "name": "stdout",
     "output_type": "stream",
     "text": [
      "Strings with more than three vowels: ['watermelon', 'grapefruit']\n"
     ]
    }
   ],
   "source": [
    "#38. Create a program that filters a list of strings to include only those with more than three vowels using list comprehension.\n",
    "# Function to count vowels in a string\n",
    "def count_vowels(string):\n",
    "    vowels = \"aeiouAEIOU\"\n",
    "    return sum(1 for char in string if char in vowels)\n",
    "\n",
    "# List of strings\n",
    "strings = [\"apple\", \"banana\", \"orange\", \"kiwi\", \"watermelon\", \"grapefruit\"]\n",
    "\n",
    "# Filter strings with more than three vowels using list comprehension\n",
    "filtered_strings = [string for string in strings if count_vowels(string) > 3]\n",
    "\n",
    "# Print the filtered strings\n",
    "print(\"Strings with more than three vowels:\", filtered_strings)\n"
   ]
  },
  {
   "cell_type": "code",
   "execution_count": 85,
   "id": "ad2ff701-e73e-455e-a49e-a67947a8eec1",
   "metadata": {},
   "outputs": [
    {
     "name": "stdout",
     "output_type": "stream",
     "text": [
      "Total sum of digits from 1 to 1000: 13501\n"
     ]
    }
   ],
   "source": [
    "#39. Develop a program that calculates the sum of the digits of numbers from 1 to 1000 using list comprehension.\n",
    "# Function to calculate the sum of the digits of a number\n",
    "def sum_of_digits(number):\n",
    "    return sum(int(digit) for digit in str(number))\n",
    "\n",
    "# Calculate the sum of the digits of numbers from 1 to 1000 using list comprehension\n",
    "sum_of_digits_list = [sum_of_digits(number) for number in range(1, 1001)]\n",
    "\n",
    "# Calculate the total sum\n",
    "total_sum = sum(sum_of_digits_list)\n",
    "\n",
    "# Print the total sum\n",
    "print(\"Total sum of digits from 1 to 1000:\", total_sum)\n"
   ]
  },
  {
   "cell_type": "code",
   "execution_count": 86,
   "id": "7e28fa77-2830-46d7-95df-f53d979b896f",
   "metadata": {},
   "outputs": [
    {
     "name": "stdout",
     "output_type": "stream",
     "text": [
      "Prime palindromic numbers: [2, 3, 5, 7, 11, 101, 131, 151, 181, 191, 313, 353, 373, 383, 727, 757, 787, 797, 919, 929]\n"
     ]
    }
   ],
   "source": [
    "#40. Write a program that generates a list of prime palindromic numbers using list comprehension.\n",
    "# Function to check if a number is prime\n",
    "def is_prime(num):\n",
    "    if num <= 1:\n",
    "        return False\n",
    "    for i in range(2, int(num**0.5) + 1):\n",
    "        if num % i == 0:\n",
    "            return False\n",
    "    return True\n",
    "\n",
    "# Function to check if a number is a palindrome\n",
    "def is_palindrome(num):\n",
    "    return str(num) == str(num)[::-1]\n",
    "\n",
    "# Generate a list of prime palindromic numbers using list comprehension\n",
    "prime_palindromic_numbers = [num for num in range(1, 1000) if is_prime(num) and is_palindrome(num)]\n",
    "\n",
    "# Print the list of prime palindromic numbers\n",
    "print(\"Prime palindromic numbers:\", prime_palindromic_numbers)\n"
   ]
  }
 ],
 "metadata": {
  "kernelspec": {
   "display_name": "Python 3 (ipykernel)",
   "language": "python",
   "name": "python3"
  },
  "language_info": {
   "codemirror_mode": {
    "name": "ipython",
    "version": 3
   },
   "file_extension": ".py",
   "mimetype": "text/x-python",
   "name": "python",
   "nbconvert_exporter": "python",
   "pygments_lexer": "ipython3",
   "version": "3.12.2"
  }
 },
 "nbformat": 4,
 "nbformat_minor": 5
}
